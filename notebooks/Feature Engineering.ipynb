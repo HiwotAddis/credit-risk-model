{
 "cells": [
  {
   "cell_type": "markdown",
   "id": "2b747f98",
   "metadata": {},
   "source": [
    "# Load & Prepare Dataset"
   ]
  },
  {
   "cell_type": "code",
   "execution_count": 30,
   "id": "4e138393",
   "metadata": {},
   "outputs": [
    {
     "data": {
      "text/html": [
       "<div>\n",
       "<style scoped>\n",
       "    .dataframe tbody tr th:only-of-type {\n",
       "        vertical-align: middle;\n",
       "    }\n",
       "\n",
       "    .dataframe tbody tr th {\n",
       "        vertical-align: top;\n",
       "    }\n",
       "\n",
       "    .dataframe thead th {\n",
       "        text-align: right;\n",
       "    }\n",
       "</style>\n",
       "<table border=\"1\" class=\"dataframe\">\n",
       "  <thead>\n",
       "    <tr style=\"text-align: right;\">\n",
       "      <th></th>\n",
       "      <th>TransactionId</th>\n",
       "      <th>BatchId</th>\n",
       "      <th>AccountId</th>\n",
       "      <th>SubscriptionId</th>\n",
       "      <th>CustomerId</th>\n",
       "      <th>CurrencyCode</th>\n",
       "      <th>CountryCode</th>\n",
       "      <th>ProviderId</th>\n",
       "      <th>ProductId</th>\n",
       "      <th>ProductCategory</th>\n",
       "      <th>ChannelId</th>\n",
       "      <th>Amount</th>\n",
       "      <th>Value</th>\n",
       "      <th>TransactionStartTime</th>\n",
       "      <th>PricingStrategy</th>\n",
       "      <th>FraudResult</th>\n",
       "    </tr>\n",
       "  </thead>\n",
       "  <tbody>\n",
       "    <tr>\n",
       "      <th>0</th>\n",
       "      <td>TransactionId_76871</td>\n",
       "      <td>BatchId_36123</td>\n",
       "      <td>AccountId_3957</td>\n",
       "      <td>SubscriptionId_887</td>\n",
       "      <td>CustomerId_4406</td>\n",
       "      <td>UGX</td>\n",
       "      <td>256</td>\n",
       "      <td>ProviderId_6</td>\n",
       "      <td>ProductId_10</td>\n",
       "      <td>airtime</td>\n",
       "      <td>ChannelId_3</td>\n",
       "      <td>1000.0</td>\n",
       "      <td>1000</td>\n",
       "      <td>2018-11-15 02:18:49+00:00</td>\n",
       "      <td>2</td>\n",
       "      <td>0</td>\n",
       "    </tr>\n",
       "    <tr>\n",
       "      <th>1</th>\n",
       "      <td>TransactionId_73770</td>\n",
       "      <td>BatchId_15642</td>\n",
       "      <td>AccountId_4841</td>\n",
       "      <td>SubscriptionId_3829</td>\n",
       "      <td>CustomerId_4406</td>\n",
       "      <td>UGX</td>\n",
       "      <td>256</td>\n",
       "      <td>ProviderId_4</td>\n",
       "      <td>ProductId_6</td>\n",
       "      <td>financial_services</td>\n",
       "      <td>ChannelId_2</td>\n",
       "      <td>-20.0</td>\n",
       "      <td>20</td>\n",
       "      <td>2018-11-15 02:19:08+00:00</td>\n",
       "      <td>2</td>\n",
       "      <td>0</td>\n",
       "    </tr>\n",
       "    <tr>\n",
       "      <th>2</th>\n",
       "      <td>TransactionId_26203</td>\n",
       "      <td>BatchId_53941</td>\n",
       "      <td>AccountId_4229</td>\n",
       "      <td>SubscriptionId_222</td>\n",
       "      <td>CustomerId_4683</td>\n",
       "      <td>UGX</td>\n",
       "      <td>256</td>\n",
       "      <td>ProviderId_6</td>\n",
       "      <td>ProductId_1</td>\n",
       "      <td>airtime</td>\n",
       "      <td>ChannelId_3</td>\n",
       "      <td>500.0</td>\n",
       "      <td>500</td>\n",
       "      <td>2018-11-15 02:44:21+00:00</td>\n",
       "      <td>2</td>\n",
       "      <td>0</td>\n",
       "    </tr>\n",
       "    <tr>\n",
       "      <th>3</th>\n",
       "      <td>TransactionId_380</td>\n",
       "      <td>BatchId_102363</td>\n",
       "      <td>AccountId_648</td>\n",
       "      <td>SubscriptionId_2185</td>\n",
       "      <td>CustomerId_988</td>\n",
       "      <td>UGX</td>\n",
       "      <td>256</td>\n",
       "      <td>ProviderId_1</td>\n",
       "      <td>ProductId_21</td>\n",
       "      <td>utility_bill</td>\n",
       "      <td>ChannelId_3</td>\n",
       "      <td>20000.0</td>\n",
       "      <td>21800</td>\n",
       "      <td>2018-11-15 03:32:55+00:00</td>\n",
       "      <td>2</td>\n",
       "      <td>0</td>\n",
       "    </tr>\n",
       "    <tr>\n",
       "      <th>4</th>\n",
       "      <td>TransactionId_28195</td>\n",
       "      <td>BatchId_38780</td>\n",
       "      <td>AccountId_4841</td>\n",
       "      <td>SubscriptionId_3829</td>\n",
       "      <td>CustomerId_988</td>\n",
       "      <td>UGX</td>\n",
       "      <td>256</td>\n",
       "      <td>ProviderId_4</td>\n",
       "      <td>ProductId_6</td>\n",
       "      <td>financial_services</td>\n",
       "      <td>ChannelId_2</td>\n",
       "      <td>-644.0</td>\n",
       "      <td>644</td>\n",
       "      <td>2018-11-15 03:34:21+00:00</td>\n",
       "      <td>2</td>\n",
       "      <td>0</td>\n",
       "    </tr>\n",
       "  </tbody>\n",
       "</table>\n",
       "</div>"
      ],
      "text/plain": [
       "         TransactionId         BatchId       AccountId       SubscriptionId  \\\n",
       "0  TransactionId_76871   BatchId_36123  AccountId_3957   SubscriptionId_887   \n",
       "1  TransactionId_73770   BatchId_15642  AccountId_4841  SubscriptionId_3829   \n",
       "2  TransactionId_26203   BatchId_53941  AccountId_4229   SubscriptionId_222   \n",
       "3    TransactionId_380  BatchId_102363   AccountId_648  SubscriptionId_2185   \n",
       "4  TransactionId_28195   BatchId_38780  AccountId_4841  SubscriptionId_3829   \n",
       "\n",
       "        CustomerId CurrencyCode  CountryCode    ProviderId     ProductId  \\\n",
       "0  CustomerId_4406          UGX          256  ProviderId_6  ProductId_10   \n",
       "1  CustomerId_4406          UGX          256  ProviderId_4   ProductId_6   \n",
       "2  CustomerId_4683          UGX          256  ProviderId_6   ProductId_1   \n",
       "3   CustomerId_988          UGX          256  ProviderId_1  ProductId_21   \n",
       "4   CustomerId_988          UGX          256  ProviderId_4   ProductId_6   \n",
       "\n",
       "      ProductCategory    ChannelId   Amount  Value      TransactionStartTime  \\\n",
       "0             airtime  ChannelId_3   1000.0   1000 2018-11-15 02:18:49+00:00   \n",
       "1  financial_services  ChannelId_2    -20.0     20 2018-11-15 02:19:08+00:00   \n",
       "2             airtime  ChannelId_3    500.0    500 2018-11-15 02:44:21+00:00   \n",
       "3        utility_bill  ChannelId_3  20000.0  21800 2018-11-15 03:32:55+00:00   \n",
       "4  financial_services  ChannelId_2   -644.0    644 2018-11-15 03:34:21+00:00   \n",
       "\n",
       "   PricingStrategy  FraudResult  \n",
       "0                2            0  \n",
       "1                2            0  \n",
       "2                2            0  \n",
       "3                2            0  \n",
       "4                2            0  "
      ]
     },
     "execution_count": 30,
     "metadata": {},
     "output_type": "execute_result"
    }
   ],
   "source": [
    "import pandas as pd\n",
    "\n",
    "# Load raw data\n",
    "df = pd.read_csv(\"../data/raw/data.csv\", parse_dates=[\"TransactionStartTime\"])\n",
    "\n",
    "# Preview\n",
    "df.head()\n"
   ]
  },
  {
   "cell_type": "markdown",
   "id": "ce454891",
   "metadata": {},
   "source": [
    "# Create Aggregate Features (Per Customer)"
   ]
  },
  {
   "cell_type": "code",
   "execution_count": 31,
   "id": "38735014",
   "metadata": {},
   "outputs": [],
   "source": [
    "# Group by CustomerId\n",
    "agg_features = df.groupby(\"CustomerId\").agg({\n",
    "    \"Amount\": [\"sum\", \"mean\", \"std\", \"count\"],\n",
    "    \"Value\": [\"mean\"]\n",
    "}).reset_index()\n",
    "\n",
    "# Rename columns\n",
    "agg_features.columns = ['CustomerId', 'TotalAmount', 'AvgAmount', 'StdAmount', 'TransactionCount', 'AvgValue']\n"
   ]
  },
  {
   "cell_type": "markdown",
   "id": "5f18d428",
   "metadata": {},
   "source": [
    "# Extract Time-based Features"
   ]
  },
  {
   "cell_type": "code",
   "execution_count": 32,
   "id": "8e51fafb",
   "metadata": {},
   "outputs": [],
   "source": [
    "df[\"TransactionHour\"] = df[\"TransactionStartTime\"].dt.hour\n",
    "df[\"TransactionDay\"] = df[\"TransactionStartTime\"].dt.day\n",
    "df[\"TransactionMonth\"] = df[\"TransactionStartTime\"].dt.month\n",
    "df[\"TransactionYear\"] = df[\"TransactionStartTime\"].dt.year\n",
    "\n",
    "time_features = df.groupby(\"CustomerId\").agg({\n",
    "    \"TransactionHour\": \"mean\",\n",
    "    \"TransactionDay\": \"nunique\",\n",
    "    \"TransactionMonth\": \"nunique\"\n",
    "}).reset_index()\n",
    "\n",
    "time_features.columns = [\"CustomerId\", \"AvgHour\", \"ActiveDays\", \"ActiveMonths\"]\n",
    "\n"
   ]
  },
  {
   "cell_type": "markdown",
   "id": "67c5971b",
   "metadata": {},
   "source": [
    "# Encode Categorical Variables"
   ]
  },
  {
   "cell_type": "code",
   "execution_count": 33,
   "id": "ccd89310",
   "metadata": {},
   "outputs": [],
   "source": [
    "#One-Hot Encoding\n",
    "categorical_cols = [\"ProductCategory\", \"ChannelId\", \"CurrencyCode\", \"PricingStrategy\"]\n",
    "\n",
    "available_categorical_cols = [col for col in categorical_cols if col in df.columns and not df[col].isnull().all()]\n",
    "\n",
    "df_encoded = pd.get_dummies(df[available_categorical_cols])\n",
    "\n",
    "# df = df.drop(columns=available_categorical_cols)\n",
    "# df = pd.concat([df, df_encoded], axis=1)\n",
    "\n",
    "\n",
    "#Label Encoding (for tree models)\n",
    "from sklearn.preprocessing import LabelEncoder\n",
    "\n",
    "label_cols = [col for col in categorical_cols if col in df.columns and not df[col].isnull().all()]\n",
    "label_encoders = {}\n",
    "\n",
    "for col in label_cols:\n",
    "    le = LabelEncoder()\n",
    "    df[col] = le.fit_transform(df[col].astype(str))\n",
    "    label_encoders[col] = le\n"
   ]
  },
  {
   "cell_type": "markdown",
   "id": "40f88e11",
   "metadata": {},
   "source": [
    "# Handle Missing Values"
   ]
  },
  {
   "cell_type": "code",
   "execution_count": 34,
   "id": "08bf466d",
   "metadata": {},
   "outputs": [
    {
     "name": "stderr",
     "output_type": "stream",
     "text": [
      "C:\\Users\\addis\\AppData\\Local\\Temp\\ipykernel_15304\\2432148973.py:4: FutureWarning: A value is trying to be set on a copy of a DataFrame or Series through chained assignment using an inplace method.\n",
      "The behavior will change in pandas 3.0. This inplace method will never work because the intermediate object on which we are setting values always behaves as a copy.\n",
      "\n",
      "For example, when doing 'df[col].method(value, inplace=True)', try using 'df.method({col: value}, inplace=True)' or df[col] = df[col].method(value) instead, to perform the operation inplace on the original object.\n",
      "\n",
      "\n",
      "  df[\"Amount\"].fillna(df[\"Amount\"].median(), inplace=True)\n",
      "C:\\Users\\addis\\AppData\\Local\\Temp\\ipykernel_15304\\2432148973.py:7: FutureWarning: A value is trying to be set on a copy of a DataFrame or Series through chained assignment using an inplace method.\n",
      "The behavior will change in pandas 3.0. This inplace method will never work because the intermediate object on which we are setting values always behaves as a copy.\n",
      "\n",
      "For example, when doing 'df[col].method(value, inplace=True)', try using 'df.method({col: value}, inplace=True)' or df[col] = df[col].method(value) instead, to perform the operation inplace on the original object.\n",
      "\n",
      "\n",
      "  df[\"ProductCategory\"].fillna(df[\"ProductCategory\"].mode()[0], inplace=True)\n"
     ]
    }
   ],
   "source": [
    "df.isnull().sum()\n",
    "\n",
    "# Impute numerical missing\n",
    "df[\"Amount\"].fillna(df[\"Amount\"].median(), inplace=True)\n",
    "\n",
    "# Impute categorical with mode\n",
    "df[\"ProductCategory\"].fillna(df[\"ProductCategory\"].mode()[0], inplace=True)\n"
   ]
  },
  {
   "cell_type": "markdown",
   "id": "b4694bba",
   "metadata": {},
   "source": [
    "# Normalize/Standardize Numerical Features"
   ]
  },
  {
   "cell_type": "code",
   "execution_count": 35,
   "id": "2dd8b25c",
   "metadata": {},
   "outputs": [],
   "source": [
    "from sklearn.preprocessing import MinMaxScaler, StandardScaler\n",
    "\n",
    "scaler = StandardScaler()  # or MinMaxScaler()\n",
    "num_cols = [\"TotalAmount\", \"AvgAmount\", \"StdAmount\", \"TransactionCount\", \"AvgValue\"]\n",
    "\n",
    "scaled_values = scaler.fit_transform(agg_features[num_cols])\n",
    "agg_features[num_cols] = scaled_values\n"
   ]
  },
  {
   "cell_type": "markdown",
   "id": "2eb39bd0",
   "metadata": {},
   "source": [
    "# Weight of Evidence (WoE) Encoding"
   ]
  },
  {
   "cell_type": "code",
   "execution_count": 38,
   "id": "99a1a4a7",
   "metadata": {},
   "outputs": [],
   "source": [
    "import category_encoders as ce\n",
    "\n",
    "# Select only categorical columns for WoE\n",
    "woe_cols = [\"ProductCategory\", \"ChannelId\", \"CurrencyCode\", \"PricingStrategy\"]\n",
    "\n",
    "# Create WoE encoder\n",
    "encoder = ce.WOEEncoder(cols=woe_cols)\n",
    "\n",
    "# Fit and transform\n",
    "df_merged[\"label\"] = df_merged[\"FraudResult\"]\n",
    "df_woe = df_merged.copy()\n",
    "df_woe[woe_cols] = encoder.fit_transform(df_merged[woe_cols], df_merged[\"label\"])\n"
   ]
  },
  {
   "cell_type": "markdown",
   "id": "9d244141",
   "metadata": {},
   "source": [
    "# Combine All Features into Final Dataset"
   ]
  },
  {
   "cell_type": "code",
   "execution_count": 39,
   "id": "62e1eb5d",
   "metadata": {},
   "outputs": [],
   "source": [
    "# Merge all customer-level features\n",
    "final_df = agg_features.merge(time_features, on=\"CustomerId\")\n",
    "\n",
    "# Optional: merge with label\n",
    "final_df = final_df.merge(df[[\"CustomerId\", \"FraudResult\"]].drop_duplicates(), on=\"CustomerId\")\n"
   ]
  }
 ],
 "metadata": {
  "kernelspec": {
   "display_name": "base",
   "language": "python",
   "name": "python3"
  },
  "language_info": {
   "codemirror_mode": {
    "name": "ipython",
    "version": 3
   },
   "file_extension": ".py",
   "mimetype": "text/x-python",
   "name": "python",
   "nbconvert_exporter": "python",
   "pygments_lexer": "ipython3",
   "version": "3.13.2"
  }
 },
 "nbformat": 4,
 "nbformat_minor": 5
}
