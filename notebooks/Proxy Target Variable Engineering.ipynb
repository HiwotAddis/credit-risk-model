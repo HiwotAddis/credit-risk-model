{
 "cells": [
  {
   "cell_type": "markdown",
   "id": "9e7afc45",
   "metadata": {},
   "source": [
    "# 1. Calculate RFM Metrics"
   ]
  },
  {
   "cell_type": "code",
   "execution_count": 1,
   "id": "6da814f6",
   "metadata": {},
   "outputs": [],
   "source": [
    "import pandas as pd\n",
    "import numpy as np\n",
    "\n",
    "# Load data\n",
    "df = pd.read_csv('../data/raw/data.csv', parse_dates=['TransactionStartTime'])\n",
    "\n",
    "# Define a fixed snapshot date (after the latest transaction)\n",
    "snapshot_date = df['TransactionStartTime'].max() + pd.Timedelta(days=1)\n",
    "\n",
    "# Compute RFM\n",
    "rfm = df.groupby('CustomerId').agg({\n",
    "    'TransactionStartTime': lambda x: (snapshot_date - x.max()).days,  # Recency\n",
    "    'TransactionId': 'count',                                          # Frequency\n",
    "    'Amount': 'sum'                                                    # Monetary\n",
    "}).reset_index()\n",
    "\n",
    "# Rename columns\n",
    "rfm.columns = ['CustomerId', 'Recency', 'Frequency', 'Monetary']\n",
    "\n",
    "# Replace negative Monetary (if credits are refunds or reversals)\n",
    "rfm['Monetary'] = rfm['Monetary'].abs()\n"
   ]
  },
  {
   "cell_type": "markdown",
   "id": "50239dd4",
   "metadata": {},
   "source": [
    "# 2. Scale RFM Features"
   ]
  },
  {
   "cell_type": "code",
   "execution_count": 2,
   "id": "b785df1d",
   "metadata": {},
   "outputs": [],
   "source": [
    "from sklearn.preprocessing import StandardScaler\n",
    "\n",
    "# Scale RFM values\n",
    "scaler = StandardScaler()\n",
    "rfm_scaled = scaler.fit_transform(rfm[['Recency', 'Frequency', 'Monetary']])\n"
   ]
  },
  {
   "cell_type": "markdown",
   "id": "a7e1db5c",
   "metadata": {},
   "source": [
    "# 3. Cluster with K-Means"
   ]
  },
  {
   "cell_type": "code",
   "execution_count": 3,
   "id": "f95b0cba",
   "metadata": {},
   "outputs": [],
   "source": [
    "from sklearn.cluster import KMeans\n",
    "\n",
    "# KMeans clustering into 3 customer segments\n",
    "kmeans = KMeans(n_clusters=3, random_state=42)\n",
    "rfm['Cluster'] = kmeans.fit_predict(rfm_scaled)\n"
   ]
  },
  {
   "cell_type": "markdown",
   "id": "69ace741",
   "metadata": {},
   "source": [
    "# 4. Identify the High-Risk Cluster"
   ]
  },
  {
   "cell_type": "code",
   "execution_count": 4,
   "id": "dc70e485",
   "metadata": {},
   "outputs": [
    {
     "name": "stdout",
     "output_type": "stream",
     "text": [
      "   Cluster    Recency    Frequency      Monetary\n",
      "0        0  61.859846     7.726699  8.289314e+04\n",
      "1        1  29.000000  4091.000000  1.049000e+08\n",
      "2        2  12.716076    34.807692  2.813162e+05\n"
     ]
    }
   ],
   "source": [
    "# Add cluster means for inspection\n",
    "cluster_profile = rfm.groupby('Cluster')[['Recency', 'Frequency', 'Monetary']].mean().reset_index()\n",
    "print(cluster_profile)\n",
    "\n",
    "high_risk_cluster = cluster_profile.sort_values(by=['Recency', 'Frequency', 'Monetary'], ascending=[False, True, True]).iloc[0]['Cluster']\n"
   ]
  },
  {
   "cell_type": "markdown",
   "id": "160e1aed",
   "metadata": {},
   "source": [
    "# 5. Create is_high_risk Column"
   ]
  },
  {
   "cell_type": "code",
   "execution_count": 5,
   "id": "73b83297",
   "metadata": {},
   "outputs": [],
   "source": [
    "rfm['is_high_risk'] = (rfm['Cluster'] == high_risk_cluster).astype(int)\n"
   ]
  },
  {
   "cell_type": "markdown",
   "id": "4a9229ba",
   "metadata": {},
   "source": [
    "# 6. Merge Back to Main Dataset"
   ]
  },
  {
   "cell_type": "code",
   "execution_count": 6,
   "id": "ff3f0682",
   "metadata": {},
   "outputs": [],
   "source": [
    "# Keep only CustomerId and the new target column\n",
    "proxy_target = rfm[['CustomerId', 'is_high_risk']]\n",
    "\n",
    "# Merge into processed dataset\n",
    "df_final = df.merge(proxy_target, on='CustomerId', how='left')\n",
    "\n",
    "# Fill missing with 0 (if any customers weren’t assigned a cluster)\n",
    "df_final['is_high_risk'] = df_final['is_high_risk'].fillna(0).astype(int)\n"
   ]
  }
 ],
 "metadata": {
  "kernelspec": {
   "display_name": "base",
   "language": "python",
   "name": "python3"
  },
  "language_info": {
   "codemirror_mode": {
    "name": "ipython",
    "version": 3
   },
   "file_extension": ".py",
   "mimetype": "text/x-python",
   "name": "python",
   "nbconvert_exporter": "python",
   "pygments_lexer": "ipython3",
   "version": "3.13.2"
  }
 },
 "nbformat": 4,
 "nbformat_minor": 5
}
